{
 "cells": [
  {
   "cell_type": "code",
   "execution_count": 7,
   "metadata": {},
   "outputs": [],
   "source": [
    "import json\n",
    "from tinydb import TinyDB, Query, where\n",
    "import time\n",
    "import html2text\n",
    "import re\n",
    "from tqdm import tqdm\n",
    "from collections import Counter\n",
    "import string"
   ]
  },
  {
   "cell_type": "code",
   "execution_count": 8,
   "metadata": {},
   "outputs": [],
   "source": [
    "# coursemap contains course wildcards to actual course values \n",
    "# (e.g. cs189 gets mapped to {'CS 189', 'CS189', and '189'} keys with 'CS189' values)\n",
    "courses = json.load(open('courses.json'))\n",
    "coursemap = {}\n",
    "for course in courses:\n",
    "    actual = course[0:2] + ' ' + course[2:]\n",
    "    coursemap[actual] = course\n",
    "    coursemap[course] = course\n",
    "    coursemap[course[2:]] = course"
   ]
  },
  {
   "cell_type": "code",
   "execution_count": 9,
   "metadata": {},
   "outputs": [],
   "source": [
    "# extract professor last names\n",
    "proflist = json.load(open('profs.json'))\n",
    "profs = set()\n",
    "profmap = {}\n",
    "for prof in proflist:\n",
    "    prof = prof.split(' ')[-1]\n",
    "    profmap[prof] = prof"
   ]
  },
  {
   "cell_type": "code",
   "execution_count": 10,
   "metadata": {},
   "outputs": [],
   "source": [
    "\"\"\"\n",
    "To extract tags, we find without replacement (start with biggest-length string, then go smaller.)\n",
    "\"\"\"\n",
    "courses = list(reversed(sorted(coursemap.keys(), key=len)))\n",
    "profs = list(reversed(sorted(profmap.keys(), key=len)))\n",
    "replace_punc = str.maketrans(string.punctuation, ' ' * len(string.punctuation))\n",
    "parse_endorse = lambda data : [row.get('name') for row in data.get('tag_good', [])]\n",
    "    \n",
    "def extract_tags(content, categories, keymap):\n",
    "    tags = set()\n",
    "    content = content.lower().translate(replace_punc) + ' '\n",
    "    \n",
    "    for t in categories:\n",
    "        if ' ' + t.lower() + ' ' in content:\n",
    "            tags.add(keymap[t])\n",
    "            content = content.replace(t, '')\n",
    "    return tags\n",
    "\n",
    "parse_faculty = lambda content : extract_tags(content, profs, profmap)\n",
    "parse_courses = lambda content : extract_tags(content, courses, coursemap)"
   ]
  },
  {
   "cell_type": "code",
   "execution_count": 11,
   "metadata": {},
   "outputs": [],
   "source": [
    "# Dump the metadata - we use it in various places.\n",
    "\n",
    "json.dump({\n",
    "    'coursemap': coursemap,\n",
    "    'profmap': profmap,\n",
    "    'courses': list(sorted(set(coursemap.values()))),\n",
    "    'profs': list(sorted(set(profmap.values())))\n",
    "}, open('metadata.json', 'w'))"
   ]
  },
  {
   "cell_type": "code",
   "execution_count": 12,
   "metadata": {},
   "outputs": [],
   "source": [
    "class Child:\n",
    "    \n",
    "    def __init__(self):\n",
    "        pass\n",
    "      \n",
    "    @staticmethod\n",
    "    def parse_children(children):\n",
    "        results = []\n",
    "        for row in children:\n",
    "            model = Child()\n",
    "            model.type = row.get('type')\n",
    "            model.upvotes = len(parse_endorse(row))\n",
    "            if 'subject' in row.keys():\n",
    "                model.content = row.get('subject')\n",
    "            else:\n",
    "                model.content = row.get('history')[0].get('content')\n",
    "                model.created = row.get('history')[0].get('created')\n",
    "            \n",
    "            model.date = row.get('created')\n",
    "            model.faculty = parse_faculty(model.content)\n",
    "            model.courses = parse_courses(model.content)\n",
    "            model.author = 'Instructor' if row.get('type') == 'i_answer' else 'Student'\n",
    "                \n",
    "            if row.get('children') != None:\n",
    "                model.children = Child.parse_children(row.get('children'))\n",
    "                for f in model.children:\n",
    "                    model.faculty.update(f.faculty)\n",
    "                    model.courses.update(f.courses)\n",
    "                    \n",
    "            model.searchContent = model.content + ' '.join([child.searchContent for child in model.children])\n",
    "            results.append(model)\n",
    "        return results\n",
    "    \n",
    "    def to_json(self):\n",
    "        return {\n",
    "            'content': self.content,\n",
    "            'children': [child.to_json() for child in self.children],\n",
    "            'upvotes': self.upvotes,\n",
    "            'author': self.author,\n",
    "            'date': self.date\n",
    "        }"
   ]
  },
  {
   "cell_type": "code",
   "execution_count": 13,
   "metadata": {},
   "outputs": [],
   "source": [
    "class Post:\n",
    "    \n",
    "    def __init__(self, data):\n",
    "        self.tags = data.get('tags')\n",
    "        self.id = data.get('nr')\n",
    "        self.author = 'Anonymous'\n",
    "        self.date = data.get('created')\n",
    "        self.title = data.get('history')[0].get('subject')\n",
    "        self.content = data.get('history')[0].get('content')\n",
    "        self.children = Child.parse_children(data.get('children', []))\n",
    "        self.faculty = parse_faculty(self.content + self.title)\n",
    "        self.courses = parse_courses(self.title)\n",
    "        self.upvotes = len(parse_endorse(data))\n",
    "\n",
    "    def to_json(self):\n",
    "        return {\n",
    "            'id': self.id,\n",
    "            'tags': list(self.tags),\n",
    "            'date': self.date,\n",
    "            'title': self.title,\n",
    "            'content': self.content,\n",
    "            'children': [child.to_json() for child in self.children],\n",
    "            'professors': list(self.faculty),\n",
    "            'courses': list(self.courses),\n",
    "            'upvotes': self.upvotes,\n",
    "            'searchContent': self.title + ' ' + self.content + ' '.join([child.searchContent for child in self.children])\n",
    "        }"
   ]
  },
  {
   "cell_type": "code",
   "execution_count": 14,
   "metadata": {},
   "outputs": [],
   "source": [
    "network_id = \"hyq0br1u3kx7dg\""
   ]
  },
  {
   "cell_type": "code",
   "execution_count": 15,
   "metadata": {},
   "outputs": [],
   "source": [
    "db = TinyDB(f'exports/{network_id}.json')"
   ]
  },
  {
   "cell_type": "code",
   "execution_count": 16,
   "metadata": {
    "scrolled": false
   },
   "outputs": [
    {
     "name": "stderr",
     "output_type": "stream",
     "text": [
      "100%|██████████| 5504/5504 [00:15<00:00, 345.31it/s]\n"
     ]
    }
   ],
   "source": [
    "entries = []\n",
    "for row in tqdm(db.all()):\n",
    "    entry = Post(row)\n",
    "    entries.append(entry)"
   ]
  },
  {
   "cell_type": "code",
   "execution_count": 44,
   "metadata": {},
   "outputs": [],
   "source": [
    "export = []\n",
    "for entry in entries:\n",
    "    export.append(entry.to_json())\n",
    "json.dump(export, open('dump.json', 'w'))"
   ]
  }
 ],
 "metadata": {
  "kernelspec": {
   "display_name": "Python 3",
   "language": "python",
   "name": "python3"
  },
  "language_info": {
   "codemirror_mode": {
    "name": "ipython",
    "version": 3
   },
   "file_extension": ".py",
   "mimetype": "text/x-python",
   "name": "python",
   "nbconvert_exporter": "python",
   "pygments_lexer": "ipython3",
   "version": "3.8.3"
  }
 },
 "nbformat": 4,
 "nbformat_minor": 4
}
